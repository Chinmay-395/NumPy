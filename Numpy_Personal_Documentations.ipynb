{
 "cells": [
  {
   "cell_type": "markdown",
   "metadata": {},
   "source": [
    "# NUMPY Documentation"
   ]
  },
  {
   "cell_type": "code",
   "execution_count": null,
   "metadata": {},
   "outputs": [],
   "source": [
    "import numpy as np"
   ]
  },
  {
   "cell_type": "code",
   "execution_count": 36,
   "metadata": {},
   "outputs": [
    {
     "name": "stdout",
     "output_type": "stream",
     "text": [
      "[[1 2 3]\n",
      " [4 5 6]\n",
      " [7 8 9]]\n",
      "[[ 1  2  3  4  5  6  7]\n",
      " [ 8  9 10 11 12 13 14]]\n"
     ]
    }
   ],
   "source": [
    "#defining an array\n",
    "#Syntax --> variable_name = np.array([])\n",
    "\n",
    "Matrix_A=np.array([[1,2,3],[4,5,6],[7,8,9]])\n",
    "Matrix_B=np.array([[1,2,3,4,5,6,7],[8,9,10,11,12,13,14]])\n",
    "print(Matrix_A)\n",
    "print(Matrix_B)"
   ]
  },
  {
   "cell_type": "code",
   "execution_count": 37,
   "metadata": {},
   "outputs": [
    {
     "data": {
      "text/plain": [
       "2"
      ]
     },
     "execution_count": 37,
     "metadata": {},
     "output_type": "execute_result"
    }
   ],
   "source": [
    "#get dimensions of the matrix\n",
    "#Syntax --> Variable_name.ndim\n",
    "#here variable_name is name of the matrix\n",
    "Matrix_A.ndim\n",
    "#dimension means 1D, 2D, 3D, ....,nD matrix is it"
   ]
  },
  {
   "cell_type": "code",
   "execution_count": 38,
   "metadata": {},
   "outputs": [
    {
     "data": {
      "text/plain": [
       "(3, 3)"
      ]
     },
     "execution_count": 38,
     "metadata": {},
     "output_type": "execute_result"
    }
   ],
   "source": [
    "#Get shape of the matrix\n",
    "#this gives the number of rows and columns in a matrix (r,c)\n",
    "#Syntax --> Variable_name.shape\n",
    "Matrix_A.shape"
   ]
  },
  {
   "cell_type": "code",
   "execution_count": 39,
   "metadata": {},
   "outputs": [],
   "source": [
    "#Matrix_A.nbytes"
   ]
  },
  {
   "cell_type": "code",
   "execution_count": 40,
   "metadata": {},
   "outputs": [
    {
     "data": {
      "text/plain": [
       "9"
      ]
     },
     "execution_count": 40,
     "metadata": {},
     "output_type": "execute_result"
    }
   ],
   "source": [
    "#get a specific number\n",
    "#Syntax --> Variable_name[r,c] \n",
    "#indexing in python starts from zero.\n",
    "#this is acually a function returning a value.\n",
    "Matrix_A[2,2]"
   ]
  },
  {
   "cell_type": "code",
   "execution_count": 41,
   "metadata": {},
   "outputs": [
    {
     "name": "stdout",
     "output_type": "stream",
     "text": [
      "3\n",
      "5\n",
      "7\n"
     ]
    }
   ],
   "source": [
    "#Get a specific number from the array\n",
    "#and we mumtiple want to print the number then \n",
    "print(Matrix_A[0,2])\n",
    "print(Matrix_A[1,1])\n",
    "print(Matrix_A[2,0])"
   ]
  },
  {
   "cell_type": "code",
   "execution_count": 42,
   "metadata": {},
   "outputs": [
    {
     "data": {
      "text/plain": [
       "array([4, 5, 6])"
      ]
     },
     "execution_count": 42,
     "metadata": {},
     "output_type": "execute_result"
    }
   ],
   "source": [
    "#get a specific row\n",
    "#Syntax --> variable_name = [r,:]\n",
    "Matrix_A[1,:]"
   ]
  },
  {
   "cell_type": "code",
   "execution_count": 43,
   "metadata": {},
   "outputs": [
    {
     "data": {
      "text/plain": [
       "array([1, 4, 7])"
      ]
     },
     "execution_count": 43,
     "metadata": {},
     "output_type": "execute_result"
    }
   ],
   "source": [
    "#get a specific row\n",
    "#Syntax --> variable_name = [:,c]\n",
    "Matrix_A[:,0]"
   ]
  },
  {
   "cell_type": "code",
   "execution_count": 51,
   "metadata": {},
   "outputs": [
    {
     "data": {
      "text/plain": [
       "array([2, 4, 6])"
      ]
     },
     "execution_count": 51,
     "metadata": {},
     "output_type": "execute_result"
    }
   ],
   "source": [
    "#if we want a specific row from which we need numbers in a range \n",
    "Matrix_B[0, 1:6:2]\n",
    "#in the above the matrix \n",
    "# '1' is actually the index of the matrix in that row and '6' is the \"n+1\" index in the same row\n",
    "#goto Zeroth row in which get the range from 1 to 6 and step by 2"
   ]
  },
  {
   "cell_type": "code",
   "execution_count": 53,
   "metadata": {},
   "outputs": [
    {
     "name": "stdout",
     "output_type": "stream",
     "text": [
      "[[  1   2   3]\n",
      " [  4   5 100]\n",
      " [  7   8   9]]\n"
     ]
    }
   ],
   "source": [
    "#want to change the element at a specific position\n",
    "Matrix_A[1,2]=100\n",
    "print(Matrix_A)"
   ]
  },
  {
   "cell_type": "code",
   "execution_count": 57,
   "metadata": {},
   "outputs": [
    {
     "name": "stdout",
     "output_type": "stream",
     "text": [
      "[[ 13  23  33]\n",
      " [  4   5 100]\n",
      " [  3   3   3]]\n",
      "\n",
      "\n",
      "[[ 13  23  33]\n",
      " [  4   5 100]\n",
      " [  3   3   3]]\n"
     ]
    }
   ],
   "source": [
    "#want to change the multiple element of the matrix in a single syntax\n",
    "Matrix_A[2,:]=3\n",
    "print(Matrix_A)\n",
    "print(\"\\n\")\n",
    "Matrix_A[0,:] = [13,23,33]\n",
    "print(Matrix_A)"
   ]
  },
  {
   "cell_type": "code",
   "execution_count": 74,
   "metadata": {},
   "outputs": [
    {
     "name": "stdout",
     "output_type": "stream",
     "text": [
      "[[[1 2]\n",
      "  [3 4]]\n",
      "\n",
      " [[5 6]\n",
      "  [7 8]]]\n",
      "3\n"
     ]
    }
   ],
   "source": [
    "Matrix_C=np.array([[[1,2],[3,4]],[[5,6],[7,8]]])\n",
    "#in the above matrix their are 2 sets of 2x2 matrix\n",
    "print(Matrix_C)\n",
    "#this is a 3D matrix\n",
    "print(Matrix_C.ndim)"
   ]
  },
  {
   "cell_type": "code",
   "execution_count": 75,
   "metadata": {},
   "outputs": [
    {
     "name": "stdout",
     "output_type": "stream",
     "text": [
      "4\n",
      "\n",
      "\n",
      "[[3 4]\n",
      " [7 8]]\n"
     ]
    }
   ],
   "source": [
    "print(Matrix_C[0,1,1])\n",
    "#the above syntax says that go to the Zeroth List\n",
    "print(\"\\n\")\n",
    "print(Matrix_C[:,1,:])\n",
    "#the above syntax says that go to each of the 2x2 matrix take the 2nd row(row-index=1) and all the column\n"
   ]
  },
  {
   "cell_type": "code",
   "execution_count": 76,
   "metadata": {},
   "outputs": [
    {
     "name": "stdout",
     "output_type": "stream",
     "text": [
      "[[[ 1  2]\n",
      "  [17 17]]\n",
      "\n",
      " [[ 5  6]\n",
      "  [18 18]]]\n",
      "\n",
      "\n",
      "[[[  1   2]\n",
      "  [ 17  17]]\n",
      "\n",
      " [[  5 122]\n",
      "  [ 18  18]]]\n"
     ]
    }
   ],
   "source": [
    "#now if you want to replace multiple element in Matrix_C\n",
    "Matrix_C[:,1,:]=[[17,17],[18,18]]\n",
    "print(Matrix_C)\n",
    "print(\"\\n\")\n",
    "Matrix_C[1,0,1]=122\n",
    "print(Matrix_C)"
   ]
  },
  {
   "cell_type": "markdown",
   "metadata": {},
   "source": [
    "### initializing different types of array"
   ]
  },
  {
   "cell_type": "code",
   "execution_count": 81,
   "metadata": {},
   "outputs": [
    {
     "name": "stdout",
     "output_type": "stream",
     "text": [
      "[[0. 0. 0.]\n",
      " [0. 0. 0.]]\n",
      "\n",
      "\n",
      "[[0. 0. 0.]\n",
      " [0. 0. 0.]\n",
      " [0. 0. 0.]]\n"
     ]
    }
   ],
   "source": [
    "#matrix of all zeros\n",
    "print(np.zeros((2,3)))\n",
    "print(\"\\n\")\n",
    "print(np.zeros((3,3)))"
   ]
  },
  {
   "cell_type": "code",
   "execution_count": 85,
   "metadata": {},
   "outputs": [
    {
     "data": {
      "text/plain": [
       "array([[10, 10, 10],\n",
       "       [10, 10, 10]])"
      ]
     },
     "execution_count": 85,
     "metadata": {},
     "output_type": "execute_result"
    }
   ],
   "source": [
    "#matrix  full of any other number\n",
    "\n",
    "np.full((2,3),10)"
   ]
  },
  {
   "cell_type": "markdown",
   "metadata": {},
   "source": [
    "### Basic Mathematics in the array and the matrix"
   ]
  },
  {
   "cell_type": "code",
   "execution_count": 92,
   "metadata": {},
   "outputs": [
    {
     "name": "stdout",
     "output_type": "stream",
     "text": [
      "[[ 17  27  37]\n",
      " [  8   9 104]\n",
      " [  7   7   7]]\n",
      "\n",
      "\n",
      "[[ 19  29  39]\n",
      " [ 10  11 106]\n",
      " [  9   9   9]]\n",
      "\n",
      "\n"
     ]
    },
    {
     "data": {
      "text/plain": [
       "array([[ 0.14987721, -0.66363388,  0.96379539],\n",
       "       [-0.54402111, -0.99999021, -0.7271425 ],\n",
       "       [ 0.41211849,  0.41211849,  0.41211849]])"
      ]
     },
     "execution_count": 92,
     "metadata": {},
     "output_type": "execute_result"
    }
   ],
   "source": [
    "print(Matrix_A)\n",
    "print(\"\\n\")\n",
    "Matrix_A = Matrix_A + 2 #likewise all the operations such as +,-,*,/,%\n",
    "print(Matrix_A)\n",
    "print(\"\\n\")\n",
    "#lets say we want Sine values of all the elements \n",
    "np.sin(Matrix_A)"
   ]
  },
  {
   "cell_type": "markdown",
   "metadata": {},
   "source": [
    "#### --------------------------------------------------------------------------------------------------------------------------------------------------------------------------------------------"
   ]
  },
  {
   "cell_type": "markdown",
   "metadata": {},
   "source": [
    "### Linear Algebra in the array and the matrix"
   ]
  },
  {
   "cell_type": "code",
   "execution_count": 104,
   "metadata": {},
   "outputs": [
    {
     "name": "stdout",
     "output_type": "stream",
     "text": [
      "[[4 4 4]\n",
      " [4 4 4]]\n",
      "\n",
      "\n",
      "[[2 2 2 2]\n",
      " [2 2 2 2]\n",
      " [2 2 2 2]]\n",
      "\n",
      "\n",
      "[[24 24 24 24]\n",
      " [24 24 24 24]]\n"
     ]
    }
   ],
   "source": [
    "#matrix Multiplication \n",
    "# syntax --> 'import library'Variable-Name.matmul(Matrix1,Matrix2,....)\n",
    "Matrix1 = np.full((2,3),4)\n",
    "print(Matrix1)\n",
    "Matrix2 = np.full((3,4),2)\n",
    "print('\\n')\n",
    "print(Matrix2)\n",
    "print('\\n')\n",
    "c = np.matmul(Matrix1,Matrix2)\n",
    "print(Matrix3)"
   ]
  },
  {
   "cell_type": "code",
   "execution_count": 107,
   "metadata": {},
   "outputs": [
    {
     "data": {
      "text/plain": [
       "106"
      ]
     },
     "execution_count": 107,
     "metadata": {},
     "output_type": "execute_result"
    }
   ],
   "source": [
    "np.max(Matrix_A)"
   ]
  },
  {
   "cell_type": "code",
   "execution_count": null,
   "metadata": {},
   "outputs": [],
   "source": []
  }
 ],
 "metadata": {
  "kernelspec": {
   "display_name": "Python 3",
   "language": "python",
   "name": "python3"
  },
  "language_info": {
   "codemirror_mode": {
    "name": "ipython",
    "version": 3
   },
   "file_extension": ".py",
   "mimetype": "text/x-python",
   "name": "python",
   "nbconvert_exporter": "python",
   "pygments_lexer": "ipython3",
   "version": "3.7.1"
  }
 },
 "nbformat": 4,
 "nbformat_minor": 2
}
